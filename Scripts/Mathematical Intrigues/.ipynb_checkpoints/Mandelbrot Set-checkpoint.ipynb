{
 "cells": [
  {
   "cell_type": "code",
   "execution_count": 119,
   "metadata": {},
   "outputs": [],
   "source": [
    "import numpy as np\n",
    "import matplotlib.pyplot as plt\n",
    "from ipywidgets import interactive\n",
    "%matplotlib qt5"
   ]
  },
  {
   "cell_type": "code",
   "execution_count": 111,
   "metadata": {},
   "outputs": [],
   "source": [
    "def checkmandelbrot(c):\n",
    "    #c=complex(x,y)\n",
    "    c0=0\n",
    "    i=0\n",
    "    while i<500:\n",
    "        if abs(c0)>2:\n",
    "            return False, 0\n",
    "        else:\n",
    "            c0=c0**2+c\n",
    "        i+=1\n",
    "    return True, i\n"
   ]
  },
  {
   "cell_type": "code",
   "execution_count": 116,
   "metadata": {},
   "outputs": [],
   "source": [
    "W=1000*2\n",
    "H=600*2\n",
    "img=np.zeros([H,W],float)"
   ]
  },
  {
   "cell_type": "code",
   "execution_count": 117,
   "metadata": {},
   "outputs": [],
   "source": [
    "x_val=np.linspace(-2,1,W)\n",
    "y_val=np.linspace(-1,1,H)\n",
    "for x in range(W):\n",
    "    for y in range(H):\n",
    "        c=complex(x_val[x],y_val[y])\n",
    "        truth, i=checkmandelbrot(c)\n",
    "        if truth:\n",
    "            img[y,x]=i\n",
    "\n"
   ]
  },
  {
   "cell_type": "code",
   "execution_count": 121,
   "metadata": {},
   "outputs": [
    {
     "data": {
      "text/plain": [
       "<matplotlib.image.AxesImage at 0x269653d2fc8>"
      ]
     },
     "execution_count": 121,
     "metadata": {},
     "output_type": "execute_result"
    }
   ],
   "source": [
    "plt.figure(dpi=400)\n",
    "plt.imshow(img,'viridis')\n"
   ]
  },
  {
   "cell_type": "code",
   "execution_count": 82,
   "metadata": {},
   "outputs": [],
   "source": [
    "def plotting(xmin=-2,xmax=1,ymin=-1,ymax=1):\n",
    "    W=300\n",
    "    H=200\n",
    "    img=np.zeros([H,W],float)\n",
    "    x_val=np.linspace(xmin,xmax,W)\n",
    "    y_val=np.linspace(ymin,ymax,H)\n",
    "    for x in range(W):\n",
    "        for y in range(H):\n",
    "            c=complex(x_val[x],y_val[y])\n",
    "            if checkmandelbrot(c):\n",
    "                img[y,x]=1.0\n",
    "    #plt.figure(dpi=300)\n",
    "    plt.imshow(img)\n",
    "    "
   ]
  },
  {
   "cell_type": "code",
   "execution_count": 84,
   "metadata": {},
   "outputs": [
    {
     "data": {
      "application/vnd.jupyter.widget-view+json": {
       "model_id": "f418bea98e5442e4a00891e5c4b98350",
       "version_major": 2,
       "version_minor": 0
      },
      "text/plain": [
       "interactive(children=(IntSlider(value=-2, description='xmin', max=2, min=-6), IntSlider(value=1, description='…"
      ]
     },
     "metadata": {},
     "output_type": "display_data"
    }
   ],
   "source": [
    "interactive(plotting)"
   ]
  },
  {
   "cell_type": "code",
   "execution_count": null,
   "metadata": {},
   "outputs": [],
   "source": []
  }
 ],
 "metadata": {
  "kernelspec": {
   "display_name": "Python 3",
   "language": "python",
   "name": "python3"
  },
  "language_info": {
   "codemirror_mode": {
    "name": "ipython",
    "version": 3
   },
   "file_extension": ".py",
   "mimetype": "text/x-python",
   "name": "python",
   "nbconvert_exporter": "python",
   "pygments_lexer": "ipython3",
   "version": "3.7.7"
  }
 },
 "nbformat": 4,
 "nbformat_minor": 4
}
