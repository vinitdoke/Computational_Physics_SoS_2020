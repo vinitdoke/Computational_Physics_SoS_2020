{
 "cells": [
  {
   "cell_type": "code",
   "execution_count": 1,
   "metadata": {},
   "outputs": [],
   "source": [
    "import numpy as np \n",
    "import numpy.random as random \n",
    "import matplotlib.pyplot as plt \n",
    "%matplotlib qt5 "
   ]
  },
  {
   "cell_type": "markdown",
   "metadata": {},
   "source": [
    "# Monte-Carlo Integration"
   ]
  },
  {
   "cell_type": "code",
   "execution_count": 5,
   "metadata": {},
   "outputs": [
    {
     "output_type": "stream",
     "name": "stdout",
     "text": "1.4476\n"
    }
   ],
   "source": [
    "def f(x):\n",
    "    return (np.sin(1/(x*(2-x))))**2\n",
    "N=10000\n",
    "count=0\n",
    "A=2\n",
    "goodpointsx=[]\n",
    "goodpointsy=[]\n",
    "badpointsx=[]\n",
    "badpointsy=[]\n",
    "xpoints=np.linspace(0,2,200)\n",
    "fpoints=list(map(f, xpoints))\n",
    "for i in range(N):\n",
    "    x=2*random.rand()\n",
    "    y=random.rand()\n",
    "    if y<f(x):\n",
    "        count+=1\n",
    "        goodpointsx.append(x)\n",
    "        goodpointsy.append(y)\n",
    "    else:\n",
    "        badpointsx.append(x)\n",
    "        badpointsy.append(y)\n",
    "print(A*count/N)\n"
   ]
  },
  {
   "cell_type": "code",
   "execution_count": 8,
   "metadata": {},
   "outputs": [
    {
     "output_type": "execute_result",
     "data": {
      "text/plain": "<matplotlib.collections.PathCollection at 0x1812ac22e88>"
     },
     "metadata": {},
     "execution_count": 8
    }
   ],
   "source": [
    "plt.plot(xpoints, fpoints)\n",
    "plt.scatter(goodpointsx, goodpointsy, s=0.5)\n",
    "plt.scatter(badpointsx, badpointsy, s=0.5)"
   ]
  },
  {
   "cell_type": "markdown",
   "metadata": {},
   "source": [
    "# Mean Value Method"
   ]
  },
  {
   "cell_type": "code",
   "execution_count": 10,
   "metadata": {},
   "outputs": [
    {
     "output_type": "stream",
     "name": "stdout",
     "text": "1.4513507078429357\n"
    }
   ],
   "source": [
    "def f(x):\n",
    "    return (np.sin(1/(x*(2-x))))**2\n",
    "N=10000\n",
    "xmin=0\n",
    "xmax=2\n",
    "h=(xmax-xmin)/N\n",
    "sum=0\n",
    "for i in range(N-1):\n",
    "    sum+=f(xmin+(i+1)*h)\n",
    "    #print(i)\n",
    "avg=sum/N\n",
    "integ=avg*(xmax-xmin)\n",
    "print(integ)"
   ]
  },
  {
   "cell_type": "code",
   "execution_count": null,
   "metadata": {},
   "outputs": [],
   "source": []
  }
 ],
 "metadata": {
  "language_info": {
   "codemirror_mode": {
    "name": "ipython",
    "version": 3
   },
   "file_extension": ".py",
   "mimetype": "text/x-python",
   "name": "python",
   "nbconvert_exporter": "python",
   "pygments_lexer": "ipython3",
   "version": "3.7.7-final"
  },
  "orig_nbformat": 2,
  "kernelspec": {
   "name": "python3",
   "display_name": "Python 3"
  }
 },
 "nbformat": 4,
 "nbformat_minor": 2
}