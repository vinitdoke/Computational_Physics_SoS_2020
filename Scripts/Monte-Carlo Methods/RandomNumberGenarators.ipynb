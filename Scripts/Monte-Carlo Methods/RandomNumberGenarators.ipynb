{
 "cells": [
  {
   "cell_type": "code",
   "execution_count": 1,
   "metadata": {},
   "outputs": [],
   "source": [
    "import numpy as np \n",
    "import matplotlib.pyplot as plt \n",
    "%matplotlib qt5\n",
    "\n"
   ]
  },
  {
   "cell_type": "markdown",
   "metadata": {},
   "source": [
    "# Exercise 10.1"
   ]
  },
  {
   "cell_type": "code",
   "execution_count": 22,
   "metadata": {},
   "outputs": [
    {
     "output_type": "stream",
     "name": "stdout",
     "text": "0.02754\n"
    }
   ],
   "source": [
    "N=100000\n",
    "x=np.arange(1,7,1)\n",
    "#stor=[0]*6\n",
    "#stor2=[0]*6\n",
    "count=0\n",
    "for i in range(N):\n",
    "    dice1=np.random.randint(1,7)\n",
    "    #stor[dice1-1]+=1\n",
    "    dice2=np.random.randint(1,7)\n",
    "    #stor[dice2-1]+=1\n",
    "    if dice1==dice2==6:\n",
    "        count+=1\n",
    "print(count/N)\n",
    "\n"
   ]
  },
  {
   "cell_type": "code",
   "execution_count": 30,
   "metadata": {},
   "outputs": [
    {
     "output_type": "stream",
     "name": "stdout",
     "text": "0.191\n"
    }
   ],
   "source": [
    "N=1000\n",
    "count=0\n",
    "for i in range(N):\n",
    "    if np.random.rand()<0.2:\n",
    "        count+=1\n",
    "print(count/N)"
   ]
  },
  {
   "cell_type": "code",
   "execution_count": 2,
   "metadata": {},
   "outputs": [
    {
     "output_type": "execute_result",
     "data": {
      "text/plain": "array([3, 5])"
     },
     "metadata": {},
     "execution_count": 2
    }
   ],
   "source": [
    "np.arange(3,6,2)"
   ]
  },
  {
   "cell_type": "code",
   "execution_count": null,
   "metadata": {},
   "outputs": [],
   "source": []
  }
 ],
 "metadata": {
  "language_info": {
   "codemirror_mode": {
    "name": "ipython",
    "version": 3
   },
   "file_extension": ".py",
   "mimetype": "text/x-python",
   "name": "python",
   "nbconvert_exporter": "python",
   "pygments_lexer": "ipython3",
   "version": "3.7.7-final"
  },
  "orig_nbformat": 2,
  "kernelspec": {
   "name": "python3",
   "display_name": "Python 3"
  }
 },
 "nbformat": 4,
 "nbformat_minor": 2
}