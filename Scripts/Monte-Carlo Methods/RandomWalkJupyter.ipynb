{
 "cells": [
  {
   "cell_type": "code",
   "execution_count": 1,
   "metadata": {},
   "outputs": [],
   "source": [
    "import numpy as np \n",
    "import matplotlib.pyplot as plt \n",
    "import matplotlib.animation as anim \n",
    "%matplotlib qt5"
   ]
  },
  {
   "cell_type": "markdown",
   "metadata": {},
   "source": [
    "# Random Walk"
   ]
  },
  {
   "cell_type": "code",
   "execution_count": 2,
   "metadata": {},
   "outputs": [
    {
     "output_type": "execute_result",
     "data": {
      "text/plain": "<matplotlib.image.AxesImage at 0x2673cae9bc8>"
     },
     "metadata": {},
     "execution_count": 2
    }
   ],
   "source": [
    "N=100000*3\n",
    "current_pos=np.array([250,250])\n",
    "canvas=np.zeros([501,501])\n",
    "def fill(Dir, current_pos):\n",
    "    x,y=current_pos\n",
    "    if Dir==0:\n",
    "        dx,dy=-1,0\n",
    "    if Dir==1:\n",
    "        dx,dy=+1,0\n",
    "    if Dir==2:\n",
    "        dx,dy=0,+1\n",
    "    if Dir==3:\n",
    "        dx,dy=0,-1\n",
    "    if (x+dx)<0 or (x+dx)>500:\n",
    "        dx=0\n",
    "    if (y+dy)<0 or (y+dy)>500:\n",
    "        dy=0\n",
    "    canvas[x+dx,y+dy]+=1\n",
    "    return np.array([x+dx,y+dy])\n",
    "for i in range(N):\n",
    "    Dir=np.random.randint(4)\n",
    "    current_pos=fill(Dir, current_pos)\n",
    "plt.imshow(canvas, cmap=\"viridis\")\n",
    "\n",
    "\n"
   ]
  },
  {
   "cell_type": "code",
   "execution_count": 26,
   "metadata": {},
   "outputs": [
    {
     "output_type": "execute_result",
     "data": {
      "text/plain": "0"
     },
     "metadata": {},
     "execution_count": 26
    }
   ],
   "source": [
    "np.random.randint(4)\n"
   ]
  },
  {
   "cell_type": "code",
   "execution_count": null,
   "metadata": {},
   "outputs": [],
   "source": []
  },
  {
   "cell_type": "code",
   "execution_count": null,
   "metadata": {},
   "outputs": [],
   "source": []
  }
 ],
 "metadata": {
  "language_info": {
   "codemirror_mode": {
    "name": "ipython",
    "version": 3
   },
   "file_extension": ".py",
   "mimetype": "text/x-python",
   "name": "python",
   "nbconvert_exporter": "python",
   "pygments_lexer": "ipython3",
   "version": "3.7.7-final"
  },
  "orig_nbformat": 2,
  "kernelspec": {
   "name": "python3",
   "display_name": "Python 3"
  }
 },
 "nbformat": 4,
 "nbformat_minor": 2
}