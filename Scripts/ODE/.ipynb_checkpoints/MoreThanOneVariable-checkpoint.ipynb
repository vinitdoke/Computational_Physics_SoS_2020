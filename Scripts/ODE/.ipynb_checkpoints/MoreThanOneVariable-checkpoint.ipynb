{
 "cells": [
  {
   "cell_type": "code",
   "execution_count": 36,
   "metadata": {},
   "outputs": [],
   "source": [
    "import numpy as np \n",
    "import matplotlib.pyplot as plt \n",
    "from ipywidgets import  interactive\n",
    "from mpl_toolkits.mplot3d import Axes3D\n",
    "%matplotlib qt5\n"
   ]
  },
  {
   "cell_type": "code",
   "execution_count": 12,
   "metadata": {},
   "outputs": [],
   "source": [
    "a=0\n",
    "b=10\n",
    "N=1000\n",
    "h=(b-a)/N\n",
    "def f(r,t):\n",
    "    x=r[0]\n",
    "    y=r[1]\n",
    "    fx=x*y-x\n",
    "    fy=y-x*y+(np.sin(t))**2\n",
    "    return np.array([fx,fy], float)\n",
    "r=np.array([1,1], float)\n",
    "rval=np.zeros([N,2])\n",
    "tval=np.linspace(0,10,N)\n",
    "i=0\n",
    "for t in tval:\n",
    "    k1=h*f(r,t)\n",
    "    k2=h*f(r+k1/2, t+h/2)\n",
    "    k3=h*f(r+k2/2, t+h/2)\n",
    "    k4=h*f(r+k3, t+h)\n",
    "    r+=1/6*(k1+2*k2+2*k3+k4)\n",
    "    rval[i]=r\n",
    "    i+=1"
   ]
  },
  {
   "cell_type": "code",
   "execution_count": 13,
   "metadata": {},
   "outputs": [
    {
     "data": {
      "text/plain": [
       "Text(0.5, 1.0, 'Diff Eqn')"
      ]
     },
     "execution_count": 13,
     "metadata": {},
     "output_type": "execute_result"
    },
    {
     "data": {
      "image/png": "[encoded data removed]",
      "text/plain": [
       "<Figure size 432x288 with 1 Axes>"
      ]
     },
     "metadata": {
      "needs_background": "light"
     },
     "output_type": "display_data"
    }
   ],
   "source": [
    "plt.plot(tval, rval[:,0], label=\"X\")\n",
    "plt.plot(tval, rval[:,1], label=\"Y\")\n",
    "plt.legend()\n",
    "plt.xlabel(\"t values\")\n",
    "plt.ylabel(\"X and Y\")\n",
    "plt.title(\"Diff Eqn\")"
   ]
  },
  {
   "cell_type": "markdown",
   "metadata": {},
   "source": [
    "# Exercise 8.2 Lotka-Volterra equations"
   ]
  },
  {
   "cell_type": "code",
   "execution_count": 14,
   "metadata": {},
   "outputs": [
    {
     "data": {
      "application/vnd.jupyter.widget-view+json": {
       "model_id": "1c19ed889ee44f21819350a5ab391145",
       "version_major": 2,
       "version_minor": 0
      },
      "text/plain": [
       "interactive(children=(IntSlider(value=1, description='alp', max=3, min=-1), FloatSlider(value=0.5, description…"
      ]
     },
     "metadata": {},
     "output_type": "display_data"
    }
   ],
   "source": [
    "alp=1.0\n",
    "bet=0.5\n",
    "gam=0.5\n",
    "delt=2.0\n",
    "def plotter(alp=1,bet=0.5,gam=0.5,delt=2):\n",
    "    r=np.array([2,2],float)\n",
    "    a=0\n",
    "    b=30\n",
    "    h=0.001\n",
    "    N=30000\n",
    "    tval=np.linspace(a,b,N)\n",
    "    def f(r):\n",
    "        x=r[0]\n",
    "        y=r[1]\n",
    "        fx=alp*x-bet*x*y\n",
    "        fy=gam*x*y-delt*y\n",
    "        return np.array([fx,fy], float)\n",
    "    rval=np.zeros([N,2])\n",
    "    i=0\n",
    "    for t in tval:\n",
    "        k1=h*f(r)\n",
    "        k2=h*f(r+k1/2)\n",
    "        k3=h*f(r+k2/2)\n",
    "        k4=h*f(r+k3)\n",
    "        r+=1/6*(k1+2*k2+2*k3+k4)\n",
    "        rval[i]=r\n",
    "        i+=1\n",
    "    plt.plot(tval,rval[:,0], label=\"rabbits\")\n",
    "    plt.plot(tval,rval[:,1], label=\"foxes\")\n",
    "    plt.legend()\n",
    "    #plt.title(\"$ \\dfrac{dx}{dt}=\\alpha x - \\beta y and \\dfrac{dy}{dt}=\\gamma xy - \\delta y $\")\n",
    "interactive(plotter)\n",
    "\n",
    "\n"
   ]
  },
  {
   "cell_type": "markdown",
   "metadata": {},
   "source": [
    "# Exercise 8.3 Lorenz Equations"
   ]
  },
  {
   "cell_type": "code",
   "execution_count": 34,
   "metadata": {},
   "outputs": [],
   "source": [
    "#constants\n",
    "s=10.0\n",
    "r=28.0\n",
    "b=8/3.0\n",
    "#initial\n",
    "x=0.0\n",
    "y=1.0\n",
    "z=0.0\n",
    "tmin=0\n",
    "tmax=50\n",
    "N=1000\n",
    "h=(tmax-tmin)/N\n",
    "tval=np.linspace(tmin, tmax, N)\n",
    "R=np.array([x,y,z])\n",
    "stor=np.zeros([N,3])\n",
    "i=0\n",
    "def f(R):\n",
    "    x,y,z = R\n",
    "    fx=s*(y-x)\n",
    "    fy=r*x-y-x*z\n",
    "    fz=x*y-b*z\n",
    "    return np.array([fx,fy,fx])\n",
    "for t in tval:\n",
    "    stor[i]=R\n",
    "    k1=h*f(R)\n",
    "    k2=h*f(R+k1/2)\n",
    "    k3=h*f(R+k2/2)\n",
    "    k4=h*f(R+k3)\n",
    "    R+=1/6*(k1+2*(k2+k3)+k4)\n",
    "    i+=1\n",
    "    \n",
    "    \n",
    "    "
   ]
  },
  {
   "cell_type": "code",
   "execution_count": 45,
   "metadata": {},
   "outputs": [
    {
     "data": {
      "text/plain": [
       "[<matplotlib.lines.Line2D at 0x194dfe3eb88>]"
      ]
     },
     "execution_count": 45,
     "metadata": {},
     "output_type": "execute_result"
    }
   ],
   "source": [
    "plt.plot(tval,stor[:,1])"
   ]
  },
  {
   "cell_type": "code",
   "execution_count": 39,
   "metadata": {},
   "outputs": [
    {
     "ename": "AttributeError",
     "evalue": "'numpy.ndarray' object has no attribute 'has_data'",
     "output_type": "error",
     "traceback": [
      "\u001b[1;31m---------------------------------------------------------------------------\u001b[0m",
      "\u001b[1;31mAttributeError\u001b[0m                            Traceback (most recent call last)",
      "\u001b[1;32m<ipython-input-39-482f5eec5581>\u001b[0m in \u001b[0;36m<module>\u001b[1;34m\u001b[0m\n\u001b[1;32m----> 1\u001b[1;33m \u001b[0mAxes3D\u001b[0m\u001b[1;33m.\u001b[0m\u001b[0mplot\u001b[0m\u001b[1;33m(\u001b[0m\u001b[0mstor\u001b[0m\u001b[1;33m[\u001b[0m\u001b[1;33m:\u001b[0m\u001b[1;33m,\u001b[0m\u001b[1;36m0\u001b[0m\u001b[1;33m]\u001b[0m\u001b[1;33m,\u001b[0m \u001b[0mstor\u001b[0m\u001b[1;33m[\u001b[0m\u001b[1;33m:\u001b[0m\u001b[1;33m,\u001b[0m\u001b[1;36m1\u001b[0m\u001b[1;33m]\u001b[0m\u001b[1;33m,\u001b[0m \u001b[0mstor\u001b[0m\u001b[1;33m[\u001b[0m\u001b[1;33m:\u001b[0m\u001b[1;33m,\u001b[0m\u001b[1;36m2\u001b[0m\u001b[1;33m]\u001b[0m\u001b[1;33m)\u001b[0m\u001b[1;33m\u001b[0m\u001b[1;33m\u001b[0m\u001b[0m\n\u001b[0m",
      "\u001b[1;32m~\\Anaconda3\\lib\\site-packages\\mpl_toolkits\\mplot3d\\axes3d.py\u001b[0m in \u001b[0;36mplot\u001b[1;34m(self, xs, ys, zdir, *args, **kwargs)\u001b[0m\n\u001b[0;32m   1490\u001b[0m             \u001b[0mOther\u001b[0m \u001b[0marguments\u001b[0m \u001b[0mare\u001b[0m \u001b[0mforwarded\u001b[0m \u001b[0mto\u001b[0m\u001b[0;31m \u001b[0m\u001b[0;31m`\u001b[0m\u001b[0mmatplotlib\u001b[0m\u001b[1;33m.\u001b[0m\u001b[0maxes\u001b[0m\u001b[1;33m.\u001b[0m\u001b[0mAxes\u001b[0m\u001b[1;33m.\u001b[0m\u001b[0mplot\u001b[0m\u001b[0;31m`\u001b[0m\u001b[1;33m.\u001b[0m\u001b[1;33m\u001b[0m\u001b[1;33m\u001b[0m\u001b[0m\n\u001b[0;32m   1491\u001b[0m         \"\"\"\n\u001b[1;32m-> 1492\u001b[1;33m         \u001b[0mhad_data\u001b[0m \u001b[1;33m=\u001b[0m \u001b[0mself\u001b[0m\u001b[1;33m.\u001b[0m\u001b[0mhas_data\u001b[0m\u001b[1;33m(\u001b[0m\u001b[1;33m)\u001b[0m\u001b[1;33m\u001b[0m\u001b[1;33m\u001b[0m\u001b[0m\n\u001b[0m\u001b[0;32m   1493\u001b[0m \u001b[1;33m\u001b[0m\u001b[0m\n\u001b[0;32m   1494\u001b[0m         \u001b[1;31m# `zs` can be passed positionally or as keyword; checking whether\u001b[0m\u001b[1;33m\u001b[0m\u001b[1;33m\u001b[0m\u001b[1;33m\u001b[0m\u001b[0m\n",
      "\u001b[1;31mAttributeError\u001b[0m: 'numpy.ndarray' object has no attribute 'has_data'"
     ]
    }
   ],
   "source": [
    "Axes3D.plot(stor[:,0], stor[:,1], stor[:,2])"
   ]
  },
  {
   "cell_type": "code",
   "execution_count": 43,
   "metadata": {},
   "outputs": [
    {
     "data": {
      "text/plain": [
       "(1000, 3)"
      ]
     },
     "execution_count": 43,
     "metadata": {},
     "output_type": "execute_result"
    }
   ],
   "source": []
  },
  {
   "cell_type": "code",
   "execution_count": null,
   "metadata": {},
   "outputs": [],
   "source": []
  }
 ],
 "metadata": {
  "kernelspec": {
   "display_name": "Python 3",
   "language": "python",
   "name": "python3"
  },
  "language_info": {
   "codemirror_mode": {
    "name": "ipython",
    "version": 3
   },
   "file_extension": ".py",
   "mimetype": "text/x-python",
   "name": "python",
   "nbconvert_exporter": "python",
   "pygments_lexer": "ipython3",
   "version": "3.7.7"
  }
 },
 "nbformat": 4,
 "nbformat_minor": 2
}
