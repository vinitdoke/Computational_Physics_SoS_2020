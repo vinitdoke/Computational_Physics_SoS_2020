{
 "cells": [
  {
   "cell_type": "markdown",
   "metadata": {},
   "source": [
    "# Euler's Method"
   ]
  },
  {
   "cell_type": "code",
   "execution_count": 3,
   "metadata": {},
   "outputs": [],
   "source": [
    "import matplotlib.pyplot as plt\n",
    "import numpy as np\n",
    "%matplotlib qt5"
   ]
  },
  {
   "cell_type": "code",
   "execution_count": 4,
   "metadata": {},
   "outputs": [
    {
     "output_type": "execute_result",
     "data": {
      "text/plain": "Text(0.5, 1.0, '$\\\\dfrac{dx}{dt}=-x^{3}+\\\\sin{(x)}$')"
     },
     "metadata": {},
     "execution_count": 4
    }
   ],
   "source": [
    "def f(x,t):\n",
    "    return -x**3+np.sin(t)\n",
    "N=1000\n",
    "\n",
    "tval=np.linspace(0,10,N)\n",
    "x=0\n",
    "xval=[]\n",
    "a=tval[0]\n",
    "b=tval[N-1]\n",
    "h=(b-a)/N\n",
    "for t in tval:\n",
    "    xval.append(x)\n",
    "    x+=h*f(x,t)\n",
    "plt.plot(tval,xval)\n",
    "plt.title('$\\dfrac{dx}{dt}=-x^{3}+\\sin{(x)}$')"
   ]
  },
  {
   "cell_type": "code",
   "execution_count": null,
   "metadata": {},
   "outputs": [],
   "source": []
  },
  {
   "cell_type": "code",
   "execution_count": null,
   "metadata": {},
   "outputs": [],
   "source": []
  }
 ],
 "metadata": {
  "kernelspec": {
   "display_name": "Python 3",
   "language": "python",
   "name": "python3"
  },
  "language_info": {
   "codemirror_mode": {
    "name": "ipython",
    "version": 3
   },
   "file_extension": ".py",
   "mimetype": "text/x-python",
   "name": "python",
   "nbconvert_exporter": "python",
   "pygments_lexer": "ipython3",
   "version": "3.7.7-final"
  }
 },
 "nbformat": 4,
 "nbformat_minor": 4
}