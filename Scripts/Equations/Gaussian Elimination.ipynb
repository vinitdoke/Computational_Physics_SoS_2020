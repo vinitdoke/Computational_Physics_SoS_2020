{
 "cells": [
  {
   "cell_type": "code",
   "execution_count": 1,
   "metadata": {},
   "outputs": [],
   "source": [
    "import numpy as np\n"
   ]
  },
  {
   "cell_type": "code",
   "execution_count": 21,
   "metadata": {},
   "outputs": [
    {
     "name": "stdout",
     "output_type": "stream",
     "text": [
      "[ 2. -1. -2.  1.]\n"
     ]
    }
   ],
   "source": [
    "A=np.array([[2,1,4,1],[3,4,-1,-1],[1,-4,1,5],[2,-2,1,3]],float)\n",
    "v=np.array([-4,3,9,7],float)\n",
    "N=len(v)\n",
    "for i in range(N):\n",
    "    div=A[i][i]\n",
    "    A[i]/=div\n",
    "    v[i]/=div\n",
    "    for j in range(i+1,N):\n",
    "        mult=A[j][i]\n",
    "        A[j]-=mult*A[i]\n",
    "        v[j]-=mult*v[i]\n",
    "soln=np.empty(N,float)\n",
    "for m in range(N-1,-1,-1):\n",
    "    soln[m]=v[m]\n",
    "    for i in range(m+1,N):\n",
    "        soln[m]-=A[m,i]*soln[i]\n",
    "    \n",
    "print(soln)"
   ]
  },
  {
   "cell_type": "markdown",
   "metadata": {},
   "source": [
    "# Exercise 6.1"
   ]
  },
  {
   "cell_type": "markdown",
   "metadata": {},
   "source": [
    "## Without Pivoting"
   ]
  },
  {
   "cell_type": "code",
   "execution_count": 17,
   "metadata": {},
   "outputs": [
    {
     "name": "stdout",
     "output_type": "stream",
     "text": [
      "[3.         1.66666667 3.33333333 2.        ]\n"
     ]
    },
    {
     "data": {
      "text/plain": [
       "array([[ 1.        , -0.25      , -0.25      , -0.25      ],\n",
       "       [ 0.        ,  1.        , -0.09090909, -0.45454545],\n",
       "       [-0.        , -0.        ,  1.        , -2.33333333],\n",
       "       [ 0.        ,  0.        ,  0.        ,  1.        ]])"
      ]
     },
     "execution_count": 17,
     "metadata": {},
     "output_type": "execute_result"
    }
   ],
   "source": [
    "\n",
    "A=np.array([[4,-1,-1,-1],[-1,3,0,-1],[-1,-1,-1,4],[-1,0,3,-1]],float)\n",
    "v=np.array([5,0,0,5],float)\n",
    "N=len(v)\n",
    "for i in range(N):\n",
    "    div=A[i][i]\n",
    "    A[i]/=div\n",
    "    v[i]/=div\n",
    "    for j in range(i+1,N):\n",
    "        mult=A[j][i]\n",
    "        A[j]-=mult*A[i]\n",
    "        v[j]-=mult*v[i]\n",
    "soln=np.empty(N,float)\n",
    "for m in range(N-1,-1,-1):\n",
    "    soln[m]=v[m]\n",
    "    for i in range(m+1,N):\n",
    "        soln[m]-=A[m,i]*soln[i]\n",
    "    \n",
    "print(soln)\n",
    "A"
   ]
  },
  {
   "cell_type": "markdown",
   "metadata": {},
   "source": [
    "## With Pivoting"
   ]
  },
  {
   "cell_type": "code",
   "execution_count": 18,
   "metadata": {},
   "outputs": [
    {
     "name": "stdout",
     "output_type": "stream",
     "text": [
      "[3.         1.66666667 3.33333333 2.        ]\n"
     ]
    }
   ],
   "source": [
    "A=np.array([[4,-1,-1,-1],[-1,0,3,-1],[-1,3,0,-1],[-1,-1,-1,4]],float)\n",
    "v=np.array([5,5,0,0],float)\n",
    "N=len(v)\n",
    "for i in range(N):\n",
    "    \n",
    "            \n",
    "    div=A[i][i]\n",
    "    k=i\n",
    "    while div==0:\n",
    "        k+=1\n",
    "        div=A[k+1][k]\n",
    "    A[[i,k]]=A[[k,i]] \n",
    "    v[[i,k]]=v[[k,i]]\n",
    "    \n",
    "        \n",
    "        \n",
    "    div=A[i][i]    \n",
    "    A[i]/=div\n",
    "    v[i]/=div\n",
    "    for j in range(i+1,N):\n",
    "        mult=A[j][i]\n",
    "        A[j]-=mult*A[i]\n",
    "        v[j]-=mult*v[i]\n",
    "soln=np.empty(N,float)\n",
    "for m in range(N-1,-1,-1):\n",
    "    soln[m]=v[m]\n",
    "    for i in range(m+1,N):\n",
    "        soln[m]-=A[m,i]*soln[i]\n",
    "    \n",
    "print(soln)"
   ]
  },
  {
   "cell_type": "code",
   "execution_count": 22,
   "metadata": {},
   "outputs": [
    {
     "name": "stdout",
     "output_type": "stream",
     "text": [
      "[ 2. -1. -2.  1.]\n"
     ]
    }
   ],
   "source": [
    "A=np.array([[2,1,4,1],[3,4,-1,-1],[1,-4,1,5],[2,-2,1,3]],float)\n",
    "v=np.array([-4,3,9,7],float)\n",
    "N=len(v)\n",
    "for i in range(N):\n",
    "    \n",
    "            \n",
    "    div=A[i][i]\n",
    "    k=i\n",
    "    while div==0:\n",
    "        k+=1\n",
    "        div=A[k+1][k]\n",
    "    A[[i,k]]=A[[k,i]] \n",
    "    v[[i,k]]=v[[k,i]]\n",
    "    \n",
    "        \n",
    "        \n",
    "    div=A[i][i]    \n",
    "    A[i]/=div\n",
    "    v[i]/=div\n",
    "    for j in range(i+1,N):\n",
    "        mult=A[j][i]\n",
    "        A[j]-=mult*A[i]\n",
    "        v[j]-=mult*v[i]\n",
    "soln=np.empty(N,float)\n",
    "for m in range(N-1,-1,-1):\n",
    "    soln[m]=v[m]\n",
    "    for i in range(m+1,N):\n",
    "        soln[m]-=A[m,i]*soln[i]\n",
    "    \n",
    "print(soln)"
   ]
  },
  {
   "cell_type": "code",
   "execution_count": 2,
   "metadata": {},
   "outputs": [],
   "source": [
    "A=np.array([[4,-1,-1,-1],[-1,3,0,-1],[-1,-1,-1,4],[-1,0,3,-1]],float)\n",
    "v=np.array([5,0,0,5],float)"
   ]
  },
  {
   "cell_type": "code",
   "execution_count": 6,
   "metadata": {},
   "outputs": [
    {
     "data": {
      "text/plain": [
       "array([3.        , 1.66666667, 3.33333333, 2.        ])"
      ]
     },
     "execution_count": 6,
     "metadata": {},
     "output_type": "execute_result"
    }
   ],
   "source": [
    "x=np.linalg.solve(A,v)\n",
    "x"
   ]
  },
  {
   "cell_type": "code",
   "execution_count": null,
   "metadata": {},
   "outputs": [],
   "source": []
  },
  {
   "cell_type": "code",
   "execution_count": null,
   "metadata": {},
   "outputs": [],
   "source": []
  }
 ],
 "metadata": {
  "kernelspec": {
   "display_name": "Python 3",
   "language": "python",
   "name": "python3"
  },
  "language_info": {
   "codemirror_mode": {
    "name": "ipython",
    "version": 3
   },
   "file_extension": ".py",
   "mimetype": "text/x-python",
   "name": "python",
   "nbconvert_exporter": "python",
   "pygments_lexer": "ipython3",
   "version": "3.7.7"
  }
 },
 "nbformat": 4,
 "nbformat_minor": 4
}
