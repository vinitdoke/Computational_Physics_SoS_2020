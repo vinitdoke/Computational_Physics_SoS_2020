{
 "cells": [
  {
   "cell_type": "code",
   "execution_count": 1,
   "metadata": {},
   "outputs": [],
   "source": [
    "#f=root(1-x^2) a semi circle\n",
    "import numpy as np\n",
    "def f(x):\n",
    "    return np.sqrt(1-x**2)\n",
    "N=20000\n",
    "X=np.linspace(-1,1,N)\n",
    "h=2/N\n",
    "integ=0\n",
    "for x in X:\n",
    "    integ+=f(x)*h\n",
    "integ\n",
    "\n",
    "%matplotlib qt5\n"
   ]
  },
  {
   "cell_type": "markdown",
   "metadata": {},
   "source": [
    "# Trapezoidal Rule\n",
    "\n"
   ]
  },
  {
   "cell_type": "code",
   "execution_count": 3,
   "metadata": {},
   "outputs": [
    {
     "ename": "SyntaxError",
     "evalue": "invalid syntax (<ipython-input-3-b8b982a6a49c>, line 3)",
     "output_type": "error",
     "traceback": [
      "\u001b[1;36m  File \u001b[1;32m\"<ipython-input-3-b8b982a6a49c>\"\u001b[1;36m, line \u001b[1;32m3\u001b[0m\n\u001b[1;33m    N= #Number Of Divisions\u001b[0m\n\u001b[1;37m                           ^\u001b[0m\n\u001b[1;31mSyntaxError\u001b[0m\u001b[1;31m:\u001b[0m invalid syntax\n"
     ]
    }
   ],
   "source": [
    "def f(x):\n",
    "    return x**4-2*x+1 #Function here\n",
    "N= #Number Of Divisions\n",
    "a= #start range\n",
    "b= #end range\n",
    "h=(b-a)/N\n",
    "integ=f(a)/2+f(b)/2\n",
    "for i in range(1,N):\n",
    "    integ+=f(a+i*h)\n",
    "integ*=h\n",
    "print(integ) #Final Solution\n",
    "    "
   ]
  },
  {
   "cell_type": "markdown",
   "metadata": {},
   "source": [
    "# Exercise 5.1"
   ]
  },
  {
   "cell_type": "code",
   "execution_count": 5,
   "metadata": {},
   "outputs": [],
   "source": [
    "import numpy as np\n",
    "import matplotlib.pyplot as plt\n",
    "%matplotlib qt5\n"
   ]
  },
  {
   "cell_type": "code",
   "execution_count": 5,
   "metadata": {},
   "outputs": [],
   "source": [
    "data=np.loadtxt('velocities.txt')"
   ]
  },
  {
   "cell_type": "code",
   "execution_count": 6,
   "metadata": {},
   "outputs": [
    {
     "name": "stdout",
     "output_type": "stream",
     "text": [
      "8.499406000000024\n"
     ]
    },
    {
     "data": {
      "text/plain": [
       "0.864945"
      ]
     },
     "execution_count": 6,
     "metadata": {},
     "output_type": "execute_result"
    }
   ],
   "source": [
    "time=data[:,0]\n",
    "velo=data[:,1]\n",
    "N=len(time)-1\n",
    "h=(time.max()-time.min())/N\n",
    "s=velo.max()/2+velo.min()/2\n",
    "disp=[0]\n",
    "for i in range(1,101):\n",
    "    s+=velo[i]\n",
    "    disp.append(s*h)\n",
    "integ=s*h\n",
    "print(integ)\n",
    "disp=np.array(disp)\n",
    "velo.max()\n",
    "    "
   ]
  },
  {
   "cell_type": "code",
   "execution_count": 7,
   "metadata": {},
   "outputs": [
    {
     "data": {
      "text/plain": [
       "<matplotlib.legend.Legend at 0x1e0e4be0dc8>"
      ]
     },
     "execution_count": 7,
     "metadata": {},
     "output_type": "execute_result"
    },
    {
     "data": {
      "image/png": "[encoded data removed]",
      "text/plain": [
       "<Figure size 432x288 with 1 Axes>"
      ]
     },
     "metadata": {
      "needs_background": "light"
     },
     "output_type": "display_data"
    }
   ],
   "source": [
    "plt.plot(time,velo, label='velocity')\n",
    "plt.plot(time,disp, label='Displacemnt')\n",
    "plt.title('Kinematic Map')\n",
    "plt.legend()\n",
    "#plt.xlim(0,100)\n",
    "#plt.grid()"
   ]
  },
  {
   "cell_type": "markdown",
   "metadata": {},
   "source": [
    "# Simspson's Rule\n",
    "## Exercise 5.2\n"
   ]
  },
  {
   "cell_type": "code",
   "execution_count": 8,
   "metadata": {},
   "outputs": [
    {
     "ename": "SyntaxError",
     "evalue": "invalid syntax (<ipython-input-8-dc1d5d8f3e1f>, line 3)",
     "output_type": "error",
     "traceback": [
      "\u001b[1;36m  File \u001b[1;32m\"<ipython-input-8-dc1d5d8f3e1f>\"\u001b[1;36m, line \u001b[1;32m3\u001b[0m\n\u001b[1;33m    a=#start range\u001b[0m\n\u001b[1;37m                  ^\u001b[0m\n\u001b[1;31mSyntaxError\u001b[0m\u001b[1;31m:\u001b[0m invalid syntax\n"
     ]
    }
   ],
   "source": [
    "def f(x):\n",
    "    return x**4-2*x+1 #function here\n",
    "a=#start range\n",
    "b=#end range\n",
    "N=#Number of Divisions\n",
    "h=(b-a)/N\n",
    "s=f(a)+f(b)\n",
    "for i in range(1,N,2):\n",
    "    s+=4*f(a+i*h)\n",
    "for i in range(2,N-1,2):\n",
    "    s+=2*f(a+i*h)\n",
    "s=s*h/3 \n",
    "print(s)#Final Value"
   ]
  },
  {
   "cell_type": "markdown",
   "metadata": {},
   "source": [
    "## Exercise 5.3"
   ]
  },
  {
   "cell_type": "code",
   "execution_count": 9,
   "metadata": {},
   "outputs": [],
   "source": [
    "def E(limit):\n",
    "    \n",
    "    def f(x):\n",
    "        return np.exp(-x**2)\n",
    "    a=0\n",
    "    b=limit\n",
    "    N=100\n",
    "    h=(b-a)/N\n",
    "    s=f(a)+f(b)\n",
    "    for i in range(1,N,2):\n",
    "        s+=4*f(a+i*h)\n",
    "    for i in range(2,N-1,2):\n",
    "        s+=2*f(a+i*h)\n",
    "    s=s*h/3\n",
    "    return s"
   ]
  },
  {
   "cell_type": "code",
   "execution_count": 10,
   "metadata": {},
   "outputs": [],
   "source": [
    "x=np.array([0+i*0.1 for i in range(31)])\n",
    "y=E(x)"
   ]
  },
  {
   "cell_type": "code",
   "execution_count": 11,
   "metadata": {},
   "outputs": [
    {
     "data": {
      "text/plain": [
       "Text(0, 0.5, 'E(x)')"
      ]
     },
     "execution_count": 11,
     "metadata": {},
     "output_type": "execute_result"
    },
    {
     "data": {
      "image/png": "[encoded data removed]",
      "text/plain": [
       "<Figure size 432x288 with 1 Axes>"
      ]
     },
     "metadata": {
      "needs_background": "light"
     },
     "output_type": "display_data"
    }
   ],
   "source": [
    "plt.plot(x,y,'r-')\n",
    "plt.xlabel('X')\n",
    "plt.ylabel('E(x)')"
   ]
  },
  {
   "cell_type": "markdown",
   "metadata": {},
   "source": [
    "## Exercise 5.4"
   ]
  },
  {
   "cell_type": "code",
   "execution_count": 6,
   "metadata": {},
   "outputs": [],
   "source": [
    "def J(m,x):\n",
    "    def f(t):\n",
    "        return np.cos(m*t-x*np.sin(t))\n",
    "    a=0\n",
    "    b=np.pi\n",
    "    N=1000\n",
    "    h=(b-a)/N\n",
    "    s=f(a)+f(b)\n",
    "    for i in range(1,N,2):\n",
    "        s+=4*f(a+i*h)\n",
    "    for j in range(2,N-1,2):\n",
    "        s+=2*f(a+j*h)\n",
    "    s*=h/3\n",
    "    return (1/(np.pi)*s)\n"
   ]
  },
  {
   "cell_type": "code",
   "execution_count": 7,
   "metadata": {},
   "outputs": [],
   "source": [
    "x=np.linspace(0,20,100)\n",
    "j0=J(0,x)\n",
    "j1=J(1,x)\n",
    "j2=J(2,x)"
   ]
  },
  {
   "cell_type": "code",
   "execution_count": 13,
   "metadata": {},
   "outputs": [
    {
     "data": {
      "text/plain": [
       "<matplotlib.legend.Legend at 0x241e1e44708>"
      ]
     },
     "execution_count": 13,
     "metadata": {},
     "output_type": "execute_result"
    }
   ],
   "source": [
    "plt.plot(x,j0,'b-', label=('$J_0(x)$'))\n",
    "plt.plot(x,j1,'r-', label=('$J_1(x)$'))\n",
    "plt.plot(x,j2,'g-', label=('$J_2(x)$'))\n",
    "plt.xlabel('X')\n",
    "plt.ylabel('$J_m{(X)}$')\n",
    "plt.title('Bessel Functions for m=0,1,2')\n",
    "plt.legend()"
   ]
  },
  {
   "cell_type": "code",
   "execution_count": 14,
   "metadata": {},
   "outputs": [],
   "source": [
    "focal_plane=np.array([[0 for i in range(500)] for i in range(500)])\n",
    "center=(250,250)\n",
    "wavelength=62.5\n",
    "k=2*np.pi/wavelength"
   ]
  },
  {
   "cell_type": "code",
   "execution_count": 15,
   "metadata": {},
   "outputs": [],
   "source": [
    "def dist(point):\n",
    "    x0,y0=center\n",
    "    x,y=point\n",
    "    return np.sqrt((x0-x)**2+(y0-y)**2)    "
   ]
  },
  {
   "cell_type": "code",
   "execution_count": 16,
   "metadata": {},
   "outputs": [],
   "source": [
    "def I(r):\n",
    "    return ((J(1,k*r))/(k*r))**2\n"
   ]
  },
  {
   "cell_type": "code",
   "execution_count": 17,
   "metadata": {},
   "outputs": [],
   "source": [
    "for i in range(500):\n",
    "    for j in range(500):\n",
    "        focal_plane[i][j]=dist((i,j))"
   ]
  },
  {
   "cell_type": "code",
   "execution_count": 18,
   "metadata": {},
   "outputs": [],
   "source": [
    "focal_plane[250,250]=1"
   ]
  },
  {
   "cell_type": "code",
   "execution_count": 19,
   "metadata": {},
   "outputs": [],
   "source": [
    "fp2=I(focal_plane)"
   ]
  },
  {
   "cell_type": "code",
   "execution_count": 20,
   "metadata": {},
   "outputs": [
    {
     "name": "stdout",
     "output_type": "stream",
     "text": [
      "0.0012582219650261505 0.012217794550843535\n"
     ]
    }
   ],
   "source": [
    "fp2[250,250]=0.5\n",
    "mean=fp2.mean()\n",
    "std=fp2.std()\n",
    "print(mean,std)"
   ]
  },
  {
   "cell_type": "code",
   "execution_count": 28,
   "metadata": {
    "scrolled": true
   },
   "outputs": [
    {
     "data": {
      "text/plain": [
       "<matplotlib.image.AxesImage at 0x2418064cfc8>"
      ]
     },
     "execution_count": 28,
     "metadata": {},
     "output_type": "execute_result"
    }
   ],
   "source": [
    "plt.imshow(fp2,'cividis' ,vmax=mean+0.5*std, interpolation='bicubic')"
   ]
  },
  {
   "cell_type": "code",
   "execution_count": null,
   "metadata": {},
   "outputs": [],
   "source": []
  },
  {
   "cell_type": "code",
   "execution_count": null,
   "metadata": {},
   "outputs": [],
   "source": []
  }
 ],
 "metadata": {
  "kernelspec": {
   "display_name": "Python 3",
   "language": "python",
   "name": "python3"
  },
  "language_info": {
   "codemirror_mode": {
    "name": "ipython",
    "version": 3
   },
   "file_extension": ".py",
   "mimetype": "text/x-python",
   "name": "python",
   "nbconvert_exporter": "python",
   "pygments_lexer": "ipython3",
   "version": "3.7.7"
  }
 },
 "nbformat": 4,
 "nbformat_minor": 4
}
