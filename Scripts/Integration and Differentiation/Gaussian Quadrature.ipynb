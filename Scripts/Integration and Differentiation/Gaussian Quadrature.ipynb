{
 "cells": [
  {
   "cell_type": "code",
   "execution_count": 3,
   "metadata": {},
   "outputs": [],
   "source": [
    "from gaussxw import gaussxw\n",
    "from gaussxw import gaussxwab\n",
    "import numpy as np\n",
    "import matplotlib.pyplot as plt\n",
    "%matplotlib qt5"
   ]
  },
  {
   "cell_type": "markdown",
   "metadata": {},
   "source": [
    "# using 'gaussxw'"
   ]
  },
  {
   "cell_type": "code",
   "execution_count": null,
   "metadata": {},
   "outputs": [],
   "source": []
  },
  {
   "cell_type": "code",
   "execution_count": 4,
   "metadata": {},
   "outputs": [
    {
     "ename": "SyntaxError",
     "evalue": "invalid syntax (<ipython-input-4-3c928e720d75>, line 4)",
     "output_type": "error",
     "traceback": [
      "\u001b[1;36m  File \u001b[1;32m\"<ipython-input-4-3c928e720d75>\"\u001b[1;36m, line \u001b[1;32m4\u001b[0m\n\u001b[1;33m    a= #Start Range\u001b[0m\n\u001b[1;37m                   ^\u001b[0m\n\u001b[1;31mSyntaxError\u001b[0m\u001b[1;31m:\u001b[0m invalid syntax\n"
     ]
    }
   ],
   "source": [
    "from gaussxw import gaussxwab #to obtain sample points and weights\n",
    "def f(x):\n",
    "    return #function here\n",
    "a= #Start Range\n",
    "b= #End Range\n",
    "N= #Iterations\n",
    "x,w=gaussxwab(N,a,b)\n",
    "integ=0\n",
    "for i in range(N):\n",
    "    integ+=f(x[i])*w[i]\n",
    "print(integ)"
   ]
  },
  {
   "cell_type": "code",
   "execution_count": 5,
   "metadata": {},
   "outputs": [
    {
     "data": {
      "text/plain": [
       "2.201059720935587"
      ]
     },
     "execution_count": 5,
     "metadata": {},
     "output_type": "execute_result"
    }
   ],
   "source": [
    "a=0\n",
    "b=2\n",
    "N=3\n",
    "x,w=gaussxw(N)\n",
    "w=(b-a)/2*w\n",
    "x=(b-a)/2*x+(b+a)/2\n",
    "integ=0\n",
    "for i in range(N):\n",
    "    integ+=f(x[i])*w[i]\n",
    "integ\n",
    "    "
   ]
  },
  {
   "cell_type": "markdown",
   "metadata": {},
   "source": [
    "# Exercise 5.9"
   ]
  },
  {
   "cell_type": "code",
   "execution_count": 6,
   "metadata": {},
   "outputs": [],
   "source": [
    "V=10**(-3)\n",
    "ndensity=6.022*10**28\n",
    "debyetemp=428\n",
    "N=50\n",
    "k=1.38065852*10**(-23)\n",
    "x,w=gaussxw(N)\n",
    "def f(x):\n",
    "    return (x**4)*(np.exp(x))/(np.exp(x)-1)**2\n",
    "def cv(T):\n",
    "    a=0\n",
    "    b=debyetemp/T\n",
    "    integ=0\n",
    "    wk=(b-a)/2*w\n",
    "    xk=(b-a)/2*x+(b+a)/2\n",
    "    for i in range(N):\n",
    "        integ+=f(xk[i])*wk[i]\n",
    "    return 9*V*ndensity*k*((T/debyetemp)**3)*integ\n",
    "T=np.arange(5,501)\n",
    "C_val=[]\n",
    "for i in range(len(T)):\n",
    "    C_val.append(cv(T[i]))"
   ]
  },
  {
   "cell_type": "code",
   "execution_count": null,
   "metadata": {},
   "outputs": [],
   "source": [
    "\n",
    "\n",
    "    "
   ]
  },
  {
   "cell_type": "code",
   "execution_count": 7,
   "metadata": {},
   "outputs": [
    {
     "data": {
      "text/plain": [
       "Text(0.5, 1.0, 'Heat Capacity Of Solid Al v/s Temp')"
      ]
     },
     "execution_count": 7,
     "metadata": {},
     "output_type": "execute_result"
    }
   ],
   "source": [
    "plt.figure(figsize=(10,5))\n",
    "plt.plot(T,C_val)\n",
    "plt.xlabel('Temp, K')\n",
    "plt.ylabel('C_V')\n",
    "plt.title('Heat Capacity Of Solid Al v/s Temp')"
   ]
  },
  {
   "cell_type": "markdown",
   "metadata": {},
   "source": [
    "# Exercise 5.10\n"
   ]
  },
  {
   "cell_type": "code",
   "execution_count": 109,
   "metadata": {},
   "outputs": [
    {
     "data": {
      "text/plain": [
       "Text(0, 0.5, 'Time Period, s')"
      ]
     },
     "execution_count": 109,
     "metadata": {},
     "output_type": "execute_result"
    },
    {
     "data": {
      "image/png": "[encoded data removed]",
      "text/plain": [
       "<Figure size 720x360 with 1 Axes>"
      ]
     },
     "metadata": {
      "needs_background": "light"
     },
     "output_type": "display_data"
    }
   ],
   "source": [
    "N=20\n",
    "x,w=gaussxw(N)\n",
    "def V(a):\n",
    "    return a**4\n",
    "def T(a):\n",
    "    def f(x):\n",
    "        return 1/(V(a)-V(x))**(0.5)\n",
    "    llimit=0\n",
    "    ulimit=a\n",
    "    xk=(ulimit-llimit)/2*x+(ulimit+llimit)/2\n",
    "    wk=(ulimit-llimit)/2*w\n",
    "    integ=0\n",
    "    for i in range(N):\n",
    "        integ+=f(xk[i])*wk[i]\n",
    "    return (8**(0.5))*integ\n",
    "amp=np.linspace(0.01,2.00,100)\n",
    "Time_Periods=np.array([T(a) for a in amp])\n",
    "plt.figure(figsize=(10,5))\n",
    "plt.plot(amp,Time_Periods)\n",
    "plt.xlabel('Amplitude, m')\n",
    "plt.title('Time Period v/s Amplitude for an Anharmonic Oscillator')\n",
    "plt.ylabel('Time Period, s')\n",
    "\n",
    "\n",
    "    \n",
    "    \n",
    "    "
   ]
  },
  {
   "cell_type": "markdown",
   "metadata": {},
   "source": [
    "# Exercise 5.11"
   ]
  },
  {
   "cell_type": "code",
   "execution_count": 16,
   "metadata": {},
   "outputs": [],
   "source": [
    "N=50\n",
    "x,w=gaussxw(50)\n",
    "wavelength=1\n",
    "z=3\n",
    "\n",
    "# R(x)=I(x)/I0\n",
    "def S(u):\n",
    "    def s(x):\n",
    "        return np.sin((np.pi)*(x**2)/2)\n",
    "    a=0\n",
    "    b=u\n",
    "    xk=(b-a)/2*x+(b+a)/2\n",
    "    wk=(b-a)/2*w\n",
    "    integ=0\n",
    "    for i in range(N):\n",
    "        integ+=s(xk[i])*wk[i]\n",
    "    return integ\n",
    "\n",
    "        \n",
    "    \n",
    "def C(u):\n",
    "    def c(x):\n",
    "        return np.cos((np.pi)*(x**2)/2)\n",
    "    a=0\n",
    "    b=u\n",
    "    xk=(b-a)/2*x+(b+a)/2\n",
    "    wk=(b-a)/2*w\n",
    "    integ=0\n",
    "    for i in range(N):\n",
    "        integ+=c(xk[i])*wk[i]\n",
    "    return integ\n",
    "\n",
    "\n",
    "\n",
    "def R(x):\n",
    "    u= x*np.sqrt(2/(wavelength*z))\n",
    "    return 1/8*((2*C(u)+1)**2+(2*S(u)+1)**2)\n",
    "    \n",
    "    "
   ]
  },
  {
   "cell_type": "code",
   "execution_count": 17,
   "metadata": {},
   "outputs": [
    {
     "data": {
      "text/plain": [
       "Text(0.5, 1.0, 'Fractional Intensity v/s X')"
      ]
     },
     "execution_count": 17,
     "metadata": {},
     "output_type": "execute_result"
    },
    {
     "data": {
      "image/png": "[encoded data removed]",
      "text/plain": [
       "<Figure size 576x288 with 1 Axes>"
      ]
     },
     "metadata": {
      "needs_background": "light"
     },
     "output_type": "display_data"
    }
   ],
   "source": [
    "x=np.linspace(-5,5,100)\n",
    "R_val=list(map(R,x))\n",
    "plt.figure(figsize=(8,4))\n",
    "plt.plot(x,R_val)\n",
    "plt.xlabel('x (m)')\n",
    "plt.ylabel('I(x)/I_0')\n",
    "plt.title('Fractional Intensity v/s X')"
   ]
  },
  {
   "cell_type": "code",
   "execution_count": null,
   "metadata": {},
   "outputs": [],
   "source": []
  },
  {
   "cell_type": "code",
   "execution_count": null,
   "metadata": {},
   "outputs": [],
   "source": []
  }
 ],
 "metadata": {
  "kernelspec": {
   "display_name": "Python 3",
   "language": "python",
   "name": "python3"
  },
  "language_info": {
   "codemirror_mode": {
    "name": "ipython",
    "version": 3
   },
   "file_extension": ".py",
   "mimetype": "text/x-python",
   "name": "python",
   "nbconvert_exporter": "python",
   "pygments_lexer": "ipython3",
   "version": "3.7.7"
  }
 },
 "nbformat": 4,
 "nbformat_minor": 4
}
