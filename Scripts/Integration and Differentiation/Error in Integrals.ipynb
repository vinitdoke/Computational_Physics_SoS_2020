{
 "cells": [
  {
   "cell_type": "code",
   "execution_count": 4,
   "metadata": {},
   "outputs": [
    {
     "name": "stdout",
     "output_type": "stream",
     "text": [
      "4.50656 4.426660000000001\n"
     ]
    }
   ],
   "source": [
    "#using trapezoidal rule\n",
    "N=[10,20]\n",
    "def f(x):\n",
    "    return x**4-2*x+1\n",
    "a=0\n",
    "b=2\n",
    "h1=(b-a)/N[0]\n",
    "h2=(b-a)/N[1]\n",
    "s1=(f(a)+f(b))/2\n",
    "s2=(f(a)+f(b))/2\n",
    "for i in range(1,N[0]):\n",
    "    s1+=f(a+i*h1)\n",
    "I1=h1*s1\n",
    "for i in range(1,N[1]):\n",
    "    s2+=f(a+i*h2)\n",
    "I2=h2*s2\n",
    "print(I1,I2)\n",
    "\n",
    "    "
   ]
  },
  {
   "cell_type": "code",
   "execution_count": 6,
   "metadata": {},
   "outputs": [
    {
     "name": "stdout",
     "output_type": "stream",
     "text": [
      "0.026633333333333137 0.026660000000000572 0.10655999999999999\n"
     ]
    }
   ],
   "source": [
    "Prac_Error=abs(1/3*(I2-I1))\n",
    "I2_true_error=abs(4.4-I2)\n",
    "I1_true_error=abs(4.4-I1)\n",
    "print(Prac_Error, I2_true_error, I1_true_error)"
   ]
  },
  {
   "cell_type": "code",
   "execution_count": 8,
   "metadata": {},
   "outputs": [
    {
     "data": {
      "text/plain": [
       "-0.026666666666666672"
      ]
     },
     "execution_count": 8,
     "metadata": {},
     "output_type": "execute_result"
    }
   ],
   "source": [
    "h2**2/12*(-32)"
   ]
  },
  {
   "cell_type": "code",
   "execution_count": null,
   "metadata": {},
   "outputs": [],
   "source": []
  }
 ],
 "metadata": {
  "kernelspec": {
   "display_name": "Python 3",
   "language": "python",
   "name": "python3"
  },
  "language_info": {
   "codemirror_mode": {
    "name": "ipython",
    "version": 3
   },
   "file_extension": ".py",
   "mimetype": "text/x-python",
   "name": "python",
   "nbconvert_exporter": "python",
   "pygments_lexer": "ipython3",
   "version": "3.7.7"
  }
 },
 "nbformat": 4,
 "nbformat_minor": 4
}
