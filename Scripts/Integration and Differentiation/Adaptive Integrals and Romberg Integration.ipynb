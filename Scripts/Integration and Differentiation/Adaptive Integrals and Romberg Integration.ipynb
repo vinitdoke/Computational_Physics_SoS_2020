{
 "cells": [
  {
   "cell_type": "code",
   "execution_count": 2,
   "metadata": {},
   "outputs": [],
   "source": [
    "import numpy as np\n",
    "\n"
   ]
  },
  {
   "cell_type": "markdown",
   "metadata": {},
   "source": [
    "# Adaptive Trapezoidal Rule"
   ]
  },
  {
   "cell_type": "code",
   "execution_count": 4,
   "metadata": {},
   "outputs": [
    {
     "name": "stdout",
     "output_type": "stream",
     "text": [
      "2 0.3252319078064746\n",
      "4 0.5122828507233315\n",
      "8 0.40299744847824825\n",
      "16 0.43010336929474696\n",
      "32 0.4484146657874698\n",
      "64 0.4539129312153759\n",
      "128 0.45534850437280205\n",
      "256 0.455711266453241\n",
      "512 0.4558021996516643\n",
      "1024 0.45582494813242\n",
      "2048 0.45583063620164643\n",
      "4096 0.45583205827827056\n",
      "The value of integral is 0.45583205827827056 with error 4.740255413748784e-07\n"
     ]
    }
   ],
   "source": [
    "def f(x):\n",
    "    return #Function here\n",
    "a= #Start Range\n",
    "b= #End Range\n",
    "thresh= #threshold\n",
    "error=1 #Seed Error\n",
    "N=1 #Repetitions\n",
    "I1=(f(a)+f(b))/2\n",
    "while error>thresh:\n",
    "    N=2*N\n",
    "    h=(b-a)/N\n",
    "    s=1/2*(f(a)+f(b))\n",
    "    for i in range(1,N):\n",
    "        s+=f(a+i*h)\n",
    "    I2=h*s\n",
    "    error=abs(1/3*(I2-I1))\n",
    "    I1=I2\n",
    "print(f'The value of integral is {I1} with error {error}')\n",
    "    \n",
    "    "
   ]
  },
  {
   "cell_type": "markdown",
   "metadata": {},
   "source": [
    "# Using Romberg Integration Method"
   ]
  },
  {
   "cell_type": "code",
   "execution_count": 39,
   "metadata": {},
   "outputs": [
    {
     "name": "stdout",
     "output_type": "stream",
     "text": [
      "{'R11': 0.147979484546652, 'R21': 0.3252319078064746, 'R22': 0.3370487360237961, 'R31': 0.5122828507233314, 'R32': 0.5247529135844551, 'R33': 0.5277323449743068, 'R41': 0.40299744847824825, 'R42': 0.3957117549952427, 'R43': 0.39366348263668377, 'R44': 0.3931377223922225, 'R51': 0.43010336929474696, 'R52': 0.43191043068251356, 'R53': 0.43248501283627977, 'R54': 0.43263725413118015, 'R55': 0.43267586559915566, 'R61': 0.4484146657874698, 'R62': 0.44963541888698466, 'R63': 0.44991676790610324, 'R64': 0.44998512772990645, 'R65': 0.45000208557311144, 'R66': 0.45000631664026014, 'R71': 0.4539129312153758, 'R72': 0.45427948224390285, 'R73': 0.4543531975352825, 'R74': 0.4543705952985342, 'R75': 0.45437488216810273, 'R76': 0.4543759500060991, 'R77': 0.4543762167236335, 'R81': 0.4553485043728023, 'R82': 0.45544420924996404, 'R83': 0.45546269698021896, 'R84': 0.4554670479584344, 'R85': 0.455468119759666, 'R86': 0.45546838672855283, 'R87': 0.4554684534096688, 'R88': 0.4554684700761323}\n"
     ]
    }
   ],
   "source": [
    "romberg={}\n",
    "i=1\n",
    "N=1\n",
    "romberg['R11']=(f(a)+f(b))/2\n",
    "error=1\n",
    "thresh=10**(-6)\n",
    "while error>thresh:\n",
    "    i+=1\n",
    "    N*=2\n",
    "    for m in range(i):\n",
    "        if m==0:\n",
    "            h=(b-a)/N\n",
    "            integ=romberg['R'+str(i-1)+'1']/2\n",
    "            for j in range(1,N,2):\n",
    "                integ+=h*f(a+j*h)\n",
    "            romberg['R'+str(i)+str(m+1)]=integ\n",
    "        else:\n",
    "            romberg['R'+str(i)+str(m+1)]=romberg['R'+str(i)+str(m)]+(1/(4**(m+1)-1))*(romberg['R'+str(i)+str(m)]-romberg['R'+str(i-1)+str(m)])\n",
    "    error=abs((1/(4**(i-1)-1))*(romberg['R'+str(i)+str(i-1)]-romberg['R'+str(i-1)+str(i-1)]))\n",
    "print(romberg)\n",
    "    \n",
    "    \n",
    "    \n",
    "    \n"
   ]
  },
  {
   "cell_type": "code",
   "execution_count": null,
   "metadata": {},
   "outputs": [],
   "source": []
  }
 ],
 "metadata": {
  "kernelspec": {
   "display_name": "Python 3",
   "language": "python",
   "name": "python3"
  },
  "language_info": {
   "codemirror_mode": {
    "name": "ipython",
    "version": 3
   },
   "file_extension": ".py",
   "mimetype": "text/x-python",
   "name": "python",
   "nbconvert_exporter": "python",
   "pygments_lexer": "ipython3",
   "version": "3.7.7"
  }
 },
 "nbformat": 4,
 "nbformat_minor": 4
}
