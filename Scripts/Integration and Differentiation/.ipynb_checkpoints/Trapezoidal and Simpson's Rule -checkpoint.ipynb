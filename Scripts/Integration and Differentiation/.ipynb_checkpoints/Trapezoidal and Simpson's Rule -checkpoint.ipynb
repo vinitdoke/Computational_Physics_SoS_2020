{
 "cells": [
  {
   "cell_type": "code",
   "execution_count": 134,
   "metadata": {},
   "outputs": [],
   "source": [
    "#f=root(1-x^2) a semi circle\n",
    "import numpy as np\n",
    "def f(x):\n",
    "    return np.sqrt(1-x**2)\n",
    "N=20000\n",
    "X=np.linspace(-1,1,N)\n",
    "h=2/N\n",
    "integ=0\n",
    "for x in X:\n",
    "    integ+=f(x)*h\n",
    "integ\n",
    "\n",
    "%matplotlib inline\n"
   ]
  },
  {
   "cell_type": "markdown",
   "metadata": {},
   "source": [
    "# Trapezoidal Rule\n",
    "\n"
   ]
  },
  {
   "cell_type": "code",
   "execution_count": 135,
   "metadata": {},
   "outputs": [
    {
     "name": "stdout",
     "output_type": "stream",
     "text": [
      "4.400010666665601\n"
     ]
    }
   ],
   "source": [
    "def f(x):\n",
    "    return x**4-2*x+1\n",
    "N=1000\n",
    "a=0\n",
    "b=2\n",
    "h=(b-a)/N\n",
    "integ=f(a)/2+f(b)/2\n",
    "for i in range(1,N):\n",
    "    integ+=f(a+i*h)\n",
    "integ*=h\n",
    "print(integ)\n",
    "    "
   ]
  },
  {
   "cell_type": "markdown",
   "metadata": {},
   "source": [
    "# Exercise 5.1"
   ]
  },
  {
   "cell_type": "code",
   "execution_count": 136,
   "metadata": {},
   "outputs": [],
   "source": [
    "import numpy as np\n",
    "import matplotlib.pyplot as plt\n",
    "%matplotlib inline\n"
   ]
  },
  {
   "cell_type": "code",
   "execution_count": 137,
   "metadata": {},
   "outputs": [],
   "source": [
    "data=np.loadtxt('velocities.txt')"
   ]
  },
  {
   "cell_type": "code",
   "execution_count": 138,
   "metadata": {},
   "outputs": [
    {
     "name": "stdout",
     "output_type": "stream",
     "text": [
      "8.499406000000024\n"
     ]
    },
    {
     "data": {
      "text/plain": [
       "0.864945"
      ]
     },
     "execution_count": 138,
     "metadata": {},
     "output_type": "execute_result"
    }
   ],
   "source": [
    "time=data[:,0]\n",
    "velo=data[:,1]\n",
    "N=len(time)-1\n",
    "h=(time.max()-time.min())/N\n",
    "s=velo.max()/2+velo.min()/2\n",
    "disp=[0]\n",
    "for i in range(1,101):\n",
    "    s+=velo[i]\n",
    "    disp.append(s*h)\n",
    "integ=s*h\n",
    "print(integ)\n",
    "disp=np.array(disp)\n",
    "velo.max()\n",
    "    "
   ]
  },
  {
   "cell_type": "code",
   "execution_count": 139,
   "metadata": {},
   "outputs": [
    {
     "data": {
      "text/plain": [
       "<matplotlib.legend.Legend at 0x1853859fa88>"
      ]
     },
     "execution_count": 139,
     "metadata": {},
     "output_type": "execute_result"
    },
    {
     "data": {
      "image/png": "[encoded data removed]",
      "text/plain": [
       "<Figure size 432x288 with 1 Axes>"
      ]
     },
     "metadata": {
      "needs_background": "light"
     },
     "output_type": "display_data"
    }
   ],
   "source": [
    "plt.plot(time,velo, label='velocity')\n",
    "plt.plot(time,disp, label='Displacemnt')\n",
    "plt.title('Kinematic Map')\n",
    "plt.legend()\n",
    "#plt.xlim(0,100)\n",
    "#plt.grid()"
   ]
  },
  {
   "cell_type": "markdown",
   "metadata": {},
   "source": [
    "# Simspson's Rule\n",
    "## Exercise 5.2\n"
   ]
  },
  {
   "cell_type": "code",
   "execution_count": 140,
   "metadata": {},
   "outputs": [
    {
     "name": "stdout",
     "output_type": "stream",
     "text": [
      "4.400000042666667\n"
     ]
    }
   ],
   "source": [
    "def f(x):\n",
    "    return x**4-2*x+1\n",
    "a=0\n",
    "b=2\n",
    "N=100\n",
    "h=(b-a)/N\n",
    "s=f(a)+f(b)\n",
    "for i in range(1,N,2):\n",
    "    s+=4*f(a+i*h)\n",
    "for i in range(2,N-1,2):\n",
    "    s+=2*f(a+i*h)\n",
    "s=s*h/3\n",
    "print(s)"
   ]
  },
  {
   "cell_type": "markdown",
   "metadata": {},
   "source": [
    "## Exercise 5.3"
   ]
  },
  {
   "cell_type": "code",
   "execution_count": 141,
   "metadata": {},
   "outputs": [],
   "source": [
    "def E(limit):\n",
    "    \n",
    "    def f(x):\n",
    "        return np.exp(-x**2)\n",
    "    a=0\n",
    "    b=limit\n",
    "    N=100\n",
    "    h=(b-a)/N\n",
    "    s=f(a)+f(b)\n",
    "    for i in range(1,N,2):\n",
    "        s+=4*f(a+i*h)\n",
    "    for i in range(2,N-1,2):\n",
    "        s+=2*f(a+i*h)\n",
    "    s=s*h/3\n",
    "    return s"
   ]
  },
  {
   "cell_type": "code",
   "execution_count": 142,
   "metadata": {},
   "outputs": [],
   "source": [
    "x=np.array([0+i*0.1 for i in range(31)])\n",
    "y=E(x)"
   ]
  },
  {
   "cell_type": "code",
   "execution_count": 143,
   "metadata": {},
   "outputs": [
    {
     "data": {
      "text/plain": [
       "Text(0, 0.5, 'E(x)')"
      ]
     },
     "execution_count": 143,
     "metadata": {},
     "output_type": "execute_result"
    },
    {
     "data": {
      "image/png": "[encoded data removed]",
      "text/plain": [
       "<Figure size 432x288 with 1 Axes>"
      ]
     },
     "metadata": {
      "needs_background": "light"
     },
     "output_type": "display_data"
    }
   ],
   "source": [
    "plt.plot(x,y,'r-')\n",
    "plt.xlabel('X')\n",
    "plt.ylabel('E(x)')"
   ]
  },
  {
   "cell_type": "markdown",
   "metadata": {},
   "source": [
    "## Exercise 5.4"
   ]
  },
  {
   "cell_type": "code",
   "execution_count": 144,
   "metadata": {},
   "outputs": [],
   "source": [
    "def J(m,x):\n",
    "    def f(t):\n",
    "        return np.cos(m*t-x*np.sin(t))\n",
    "    a=0\n",
    "    b=np.pi\n",
    "    N=1000\n",
    "    h=(b-a)/N\n",
    "    s=f(a)+f(b)\n",
    "    for i in range(1,N,2):\n",
    "        s+=4*f(a+i*h)\n",
    "    for j in range(2,N-1,2):\n",
    "        s+=2*f(a+j*h)\n",
    "    s*=h/3\n",
    "    return (1/(np.pi)*s)\n"
   ]
  },
  {
   "cell_type": "code",
   "execution_count": 145,
   "metadata": {},
   "outputs": [],
   "source": [
    "x=np.linspace(0,20,100)\n",
    "j0=J(0,x)\n",
    "j1=J(1,x)\n",
    "j2=J(2,x)"
   ]
  },
  {
   "cell_type": "code",
   "execution_count": 146,
   "metadata": {},
   "outputs": [
    {
     "data": {
      "text/plain": [
       "<matplotlib.legend.Legend at 0x1853b213848>"
      ]
     },
     "execution_count": 146,
     "metadata": {},
     "output_type": "execute_result"
    },
    {
     "data": {
      "image/png": "[encoded data removed]",
      "text/plain": [
       "<Figure size 432x288 with 1 Axes>"
      ]
     },
     "metadata": {
      "needs_background": "light"
     },
     "output_type": "display_data"
    }
   ],
   "source": [
    "plt.plot(x,j0,'b-', label=('J0(x)'))\n",
    "plt.plot(x,j1,'r-', label=('J1(x)'))\n",
    "plt.plot(x,j2,'g-', label=('J2(x)'))\n",
    "plt.xlabel('X')\n",
    "plt.ylabel('Jm(X)')\n",
    "plt.title('Bessel Functions for m=0,1,2')\n",
    "plt.legend()"
   ]
  },
  {
   "cell_type": "code",
   "execution_count": 147,
   "metadata": {},
   "outputs": [],
   "source": [
    "focal_plane=np.array([[0 for i in range(500)] for i in range(500)])\n",
    "center=(250,250)\n",
    "wavelength=62.5\n",
    "k=2*np.pi/wavelength"
   ]
  },
  {
   "cell_type": "code",
   "execution_count": 148,
   "metadata": {},
   "outputs": [],
   "source": [
    "def dist(point):\n",
    "    x0,y0=center\n",
    "    x,y=point\n",
    "    return np.sqrt((x0-x)**2+(y0-y)**2)    "
   ]
  },
  {
   "cell_type": "code",
   "execution_count": 149,
   "metadata": {},
   "outputs": [],
   "source": [
    "def I(r):\n",
    "    return ((J(1,k*r))/(k*r))**2\n"
   ]
  },
  {
   "cell_type": "code",
   "execution_count": 150,
   "metadata": {},
   "outputs": [],
   "source": [
    "for i in range(500):\n",
    "    for j in range(500):\n",
    "        focal_plane[i][j]=dist((i,j))"
   ]
  },
  {
   "cell_type": "code",
   "execution_count": 151,
   "metadata": {},
   "outputs": [],
   "source": [
    "focal_plane[250,250]=1"
   ]
  },
  {
   "cell_type": "code",
   "execution_count": 152,
   "metadata": {},
   "outputs": [],
   "source": [
    "fp2=I(focal_plane)"
   ]
  },
  {
   "cell_type": "code",
   "execution_count": 153,
   "metadata": {},
   "outputs": [
    {
     "name": "stdout",
     "output_type": "stream",
     "text": [
      "0.0012582219650261505 0.012217794550843535\n"
     ]
    }
   ],
   "source": [
    "fp2[250,250]=0.5\n",
    "mean=fp2.mean()\n",
    "std=fp2.std()\n",
    "print(mean,std)"
   ]
  },
  {
   "cell_type": "code",
   "execution_count": 160,
   "metadata": {
    "scrolled": true
   },
   "outputs": [
    {
     "data": {
      "text/plain": [
       "<matplotlib.image.AxesImage at 0x1853c070048>"
      ]
     },
     "execution_count": 160,
     "metadata": {},
     "output_type": "execute_result"
    },
    {
     "data": {
      "image/png": "[encoded data removed]",
      "text/plain": [
       "<Figure size 432x288 with 1 Axes>"
      ]
     },
     "metadata": {
      "needs_background": "light"
     },
     "output_type": "display_data"
    }
   ],
   "source": [
    "plt.imshow(fp2,vmax=mean+0.5*std,vmin=mean-0.5*std,)"
   ]
  },
  {
   "cell_type": "code",
   "execution_count": null,
   "metadata": {},
   "outputs": [],
   "source": []
  },
  {
   "cell_type": "code",
   "execution_count": null,
   "metadata": {},
   "outputs": [],
   "source": []
  }
 ],
 "metadata": {
  "kernelspec": {
   "display_name": "Python 3",
   "language": "python",
   "name": "python3"
  },
  "language_info": {
   "codemirror_mode": {
    "name": "ipython",
    "version": 3
   },
   "file_extension": ".py",
   "mimetype": "text/x-python",
   "name": "python",
   "nbconvert_exporter": "python",
   "pygments_lexer": "ipython3",
   "version": "3.7.7"
  }
 },
 "nbformat": 4,
 "nbformat_minor": 4
}
